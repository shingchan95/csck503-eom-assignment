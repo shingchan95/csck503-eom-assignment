{
 "cells": [
  {
   "cell_type": "markdown",
   "metadata": {},
   "source": [
    "## Linear Regression"
   ]
  },
  {
   "cell_type": "markdown",
   "metadata": {},
   "source": [
    "* Build the linear regression model based on the dataset and features from data preprocessing secton\n",
    "* Evlauate LR model with following metrics\n",
    ">* R^2 score\n",
    ">* Mean Square Error (MSE)\n",
    ">* Mean Absolute Eroor (MAE)\n",
    "* Visualise prediction vs actual values\n",
    "* Performance and Parameter tuning specific for linear regression\n",
    ">* Gradient Descent and Cost Function\n",
    ">* Visualise data by scatter plot to further evaluate features (independent variables) which are appropriate for linear regeression\n",
    ">* Rebuild model based on the new findings\n",
    ">* Evaluate and compare the performance"
   ]
  },
  {
   "cell_type": "code",
   "execution_count": null,
   "metadata": {},
   "outputs": [],
   "source": [
    "%% capture\n",
    "%run data_prep_and_analysis.ipynb"
   ]
  },
  {
   "cell_type": "code",
   "execution_count": null,
   "metadata": {},
   "outputs": [],
   "source": [
    "# Evaluate Models\n",
    "def evaluate_model(y_test, y_pred):\n",
    "    mae = mean_absolute_error(y_test, y_pred)\n",
    "    mse = mean_squared_error(y_test, y_pred)\n",
    "    r2 = r2_score(y_test, y_pred)\n",
    "    return mae, mse, r2"
   ]
  },
  {
   "cell_type": "code",
   "execution_count": null,
   "metadata": {},
   "outputs": [],
   "source": [
    "# create function to include repeated steps for building model, evaluating model, and visualising the results\n",
    "def build_lr_model(X, y, model_name):\n",
    "\n",
    "    # build the model\n",
    "    X_train, X_test, y_train, y_test = train_test_split(X, y, test_size=0.2, random_state=42)\n",
    "    lm = LinearRegression(fit_intercept=True)\n",
    "    lm.fit(X_train, y_train)\n",
    "    y_pred = lm.predict(X_test)\n",
    "\n",
    "    # evaluate the model\n",
    "    print('X_train shape :', X_train.shape)\n",
    "    print('X_test shape :',X_test.shape)\n",
    "    print('y_train shape :',y_train.shape)\n",
    "    print('y_test shape :',y_test.shape)\n",
    "    print(\"\")\n",
    "    \n",
    "    # Model performance metrics\n",
    "    mae, mse, r2score = evaluate_model(y_test, y_pred)\n",
    "    print(\"Model Evaluation\")\n",
    "    print(\"Linear Regression Metrics (MAE, MSE, R^2):\")\n",
    "    print(mae, mse, r2score)\n",
    "\n",
    "    print(\"\")\n",
    "    # Coefficient\n",
    "    print('Coefficients:')\n",
    "    print(lm.coef_)\n",
    "\n",
    "    print(\"\")\n",
    "    # Intercept\n",
    "    print('Intercept:')\n",
    "    print(lm.intercept_)\n",
    "\n",
    "    # Plot predictions vs. actual values\n",
    "    plt.figure(figsize=(8, 6))\n",
    "    plt.scatter(y_test, y_pred, alpha=0.5)\n",
    "    plt.plot([min(y_test), max(y_test)], [min(y_test), max(y_test)], 'r')\n",
    "    plt.title('Predictions vs. Actual Values (Linear Regression) for {}'.format(model_name))\n",
    "    plt.xlabel('Actual Values')\n",
    "    plt.ylabel('Predicted Values')\n",
    "    plt.show()\n",
    "\n",
    "    return { 'Model': model_name, 'MAE': mae, 'MSE': mse, 'R^2': r2score }\n",
    "     "
   ]
  },
  {
   "cell_type": "markdown",
   "metadata": {},
   "source": [
    "### Build model on selected features"
   ]
  },
  {
   "cell_type": "code",
   "execution_count": null,
   "metadata": {},
   "outputs": [],
   "source": [
    "# Create an empty list to store results\n",
    "lr_performance = []"
   ]
  },
  {
   "cell_type": "code",
   "execution_count": null,
   "metadata": {},
   "outputs": [],
   "source": [
    "print('Selected features:', selected_features)"
   ]
  },
  {
   "cell_type": "code",
   "execution_count": null,
   "metadata": {},
   "outputs": [],
   "source": [
    "# Train and Evaluate Linear Regression\n",
    "result = build_lr_model(X_train, y_train, \"Dataset using selected features\")\n",
    "lr_performance.append(result)"
   ]
  },
  {
   "cell_type": "markdown",
   "metadata": {},
   "source": [
    "### Performance and Parameter Tuning for Linear Regression"
   ]
  },
  {
   "cell_type": "code",
   "execution_count": null,
   "metadata": {},
   "outputs": [],
   "source": [
    "# Train and evaluate Linear Regression with Gradient Descent\n",
    "gdlr = SGDRegressor(loss='squared_error', penalty='l1', learning_rate='optimal', n_iter_no_change=10)\n",
    "gdlr.fit(X_train, y_train)\n",
    "y_pred_gd = gdlr.predict(X_test)"
   ]
  },
  {
   "cell_type": "code",
   "execution_count": null,
   "metadata": {},
   "outputs": [],
   "source": [
    "# Apply an ensemble method with K-Fold Cross Validation to the data \n",
    "ensemble = SGDRegressor(loss='squared_error', penalty='l1', learning_rate='optimal', n_iter_no_change=10)\n",
    "kf = KFold(n_splits = 5, random_state = 42, shuffle = True)\n",
    "mae = cross_val_score(ensemble, X_train, y_train, scoring = \"neg_mean_absolute_error\", cv = kf, n_jobs=4) # model runs in 4 parallel threads\n",
    "print(f'Ensemble MAE evaluation table: {mae}')\n",
    "mse = cross_val_score(ensemble, X_train, y_train, scoring = \"neg_mean_squared_error\", cv = kf, n_jobs=4) # model runs in 4 parallel threads\n",
    "print(f'Ensemble MSE evaluation table: {mse}')\n",
    "r2 = cross_val_score(ensemble, X_train, y_train, scoring = \"r2\", cv = kf, n_jobs=4) # model runs in 4 parallel threads\n",
    "print(f'Ensemble r2 evaluation table {r2}')"
   ]
  },
  {
   "cell_type": "markdown",
   "metadata": {},
   "source": [
    "### Visualise relationship between selected features\n",
    "In this section, the selected features used in the previous section will be tuned to compare the performance\n",
    "\n",
    ">['Emission Value', 'VKM', 'AADT', 'Length (m)', 'VehicleType', 'Toid', 'Interaction_Length_Speed']"
   ]
  },
  {
   "cell_type": "code",
   "execution_count": null,
   "metadata": {},
   "outputs": [],
   "source": [
    "# Investigate all the elements within each Feature \n",
    "\n",
    "for column in df:\n",
    "    unique_vals = np.unique(df[column])\n",
    "    nr_values = len(unique_vals)\n",
    "    if nr_values < 20: # show unqiue if the total is less than 20\n",
    "        print('The number of values for feature {} :{} -- {}'.format(column, nr_values,unique_vals))\n",
    "    else:\n",
    "        print('The number of values for feature {} :{}'.format(column, nr_values))"
   ]
  },
  {
   "cell_type": "markdown",
   "metadata": {},
   "source": [
    "### Visualise the selected features relationship for each location"
   ]
  },
  {
   "cell_type": "code",
   "execution_count": null,
   "metadata": {},
   "outputs": [],
   "source": [
    "# Visualise the data using seaborn Pariplots\n",
    "# Since it is very time consuming on large datasets, divide the dataset into subset\n",
    "# Location_ExactCut is a good candidate for filtering as it has 4 unique values = df['Location_ExactCut'].unique()\n",
    "unique_loc = df['Location_ExactCut'].unique()\n",
    "unique_loc = sorted(unique_loc)\n",
    "location_dataset = []\n",
    "for loc in unique_loc:\n",
    "    df_loc = df[df['Location_ExactCut'] == loc]\n",
    "    location_dataset.append(df_loc)"
   ]
  },
  {
   "cell_type": "code",
   "execution_count": null,
   "metadata": {},
   "outputs": [],
   "source": [
    "# visualise the selected features relationship for each location \n",
    "hue_column = 'VehicleType'"
   ]
  },
  {
   "cell_type": "code",
   "execution_count": null,
   "metadata": {},
   "outputs": [],
   "source": [
    "# location 0 - Central\n",
    "df_loc = location_dataset[0]\n",
    "g = sns.pairplot(df_loc[selected_features], hue = hue_column, height = 5)"
   ]
  },
  {
   "cell_type": "code",
   "execution_count": null,
   "metadata": {},
   "outputs": [],
   "source": [
    "# location 1 - External\n",
    "df_loc = location_dataset[1]\n",
    "g = sns.pairplot(df_loc[selected_features], hue = hue_column, height = 5)"
   ]
  },
  {
   "cell_type": "code",
   "execution_count": null,
   "metadata": {},
   "outputs": [],
   "source": [
    "# location 2 - Inner\n",
    "df_loc = location_dataset[2]\n",
    "g = sns.pairplot(df_loc[selected_features], hue = hue_column, height = 5)"
   ]
  },
  {
   "cell_type": "code",
   "execution_count": null,
   "metadata": {},
   "outputs": [],
   "source": [
    "# location 3 - External\n",
    "df_loc = location_dataset[3]\n",
    "g = sns.pairplot(df_loc[selected_features], hue = hue_column, height = 5)"
   ]
  },
  {
   "cell_type": "markdown",
   "metadata": {},
   "source": [
    "### Notes\n",
    "* Based on the result of the pairplot of the selected features, strong linear relationship between VKM and Emission Value is observed while AADT and Emission value do not indicate linear relationship\n",
    "* Additionally, the linear relationship between VKM and Emission Value is even stronger for individual vehicle type"
   ]
  },
  {
   "cell_type": "markdown",
   "metadata": {},
   "source": [
    "### Plot VKM and Emission Value for individual vehicle type for Location 0 - Central"
   ]
  },
  {
   "cell_type": "code",
   "execution_count": null,
   "metadata": {},
   "outputs": [],
   "source": [
    "# Visualise the data and regression model fits across a FacetGrid for individual vehicle type in one location\n",
    "df_loc = location_dataset[0]\n",
    "g = sns.lmplot(x = 'VKM', y = 'Emission Value', data = df_loc, col = 'VehicleType', col_wrap = 3, height = 5, \n",
    "              scatter_kws = {'color':'green'}, ci = False)"
   ]
  },
  {
   "cell_type": "markdown",
   "metadata": {},
   "source": [
    "### Plot VKM and Emission Value for individual vehicle type for Location 1 - External"
   ]
  },
  {
   "cell_type": "code",
   "execution_count": null,
   "metadata": {},
   "outputs": [],
   "source": [
    "# Visualise the data and regression model fits across a FacetGrid for individual vehicle type in one location\n",
    "df_loc = location_dataset[1]\n",
    "g = sns.lmplot(x = 'VKM', y = 'Emission Value', data = df_loc, col = 'VehicleType', col_wrap = 3, height = 5, \n",
    "              scatter_kws = {'color':'green'}, ci = False)"
   ]
  },
  {
   "cell_type": "markdown",
   "metadata": {},
   "source": [
    "### Plot VKM and Emission Value for individual vehicle type for Location 2 - Inner"
   ]
  },
  {
   "cell_type": "code",
   "execution_count": null,
   "metadata": {},
   "outputs": [],
   "source": [
    "# Visualise the data and regression model fits across a FacetGrid for individual vehicle type in one location\n",
    "df_loc = location_dataset[2]\n",
    "g = sns.lmplot(x = 'VKM', y = 'Emission Value', data = df_loc, col = 'VehicleType', col_wrap = 3, height = 5, \n",
    "              scatter_kws = {'color':'green'}, ci = False)\n"
   ]
  },
  {
   "cell_type": "markdown",
   "metadata": {},
   "source": [
    "### Plot VKM and Emission Value for individual vehicle type for Location 3 - Outer"
   ]
  },
  {
   "cell_type": "code",
   "execution_count": null,
   "metadata": {},
   "outputs": [],
   "source": [
    "# Visualise the data and regression model fits across a FacetGrid for individual vehicle type in one location\n",
    "df_loc = location_dataset[3]\n",
    "g = sns.lmplot(x = 'VKM', y = 'Emission Value', data = df_loc, col = 'VehicleType', col_wrap = 3, height = 5, \n",
    "              scatter_kws = {'color':'green'}, ci = False)"
   ]
  },
  {
   "cell_type": "markdown",
   "metadata": {},
   "source": [
    "#### Analysis result\n",
    "\n",
    "* Based on the result of lmplot between VKM and Emission for individual location,\n",
    ">* It shows the same observation as pairplot with all features where strong linear relationship can be found between VKM and Emission Value\n",
    ">* VKM and Emission value for individual vehicle type show the similar trend in all locations"
   ]
  },
  {
   "cell_type": "markdown",
   "metadata": {},
   "source": [
    "#### Rebuild model with new findings\n",
    "* Based on the visualisation analayis, the result indicates a good linear relationship between VKM and Emission Value for individual vehicle type\n",
    "* Try to train the linear regression model by dataset of individual vehicle type and evalulate the performance"
   ]
  },
  {
   "cell_type": "code",
   "execution_count": null,
   "metadata": {},
   "outputs": [],
   "source": [
    "# List to store performance metric of individual vehicle type\n",
    "vt_performance = []\n",
    "\n",
    "# Retrieve the unique vehicle type\n",
    "unique_vt = df['VehicleType'].unique()\n",
    "unique_vt = sorted(unique_vt)\n",
    "print(\"Unique vehicle type:\", unique_vt)\n"
   ]
  },
  {
   "cell_type": "code",
   "execution_count": null,
   "metadata": {},
   "outputs": [],
   "source": [
    "# run the model for individual vehicle type\n",
    "for vt in unique_vt:\n",
    "    df_vt = df[df['VehicleType'] == vt]\n",
    "    X_vt = df_vt[['VKM']]\n",
    "    y_vt = df_vt['Emission Value']\n",
    "\n",
    "    result = build_lr_model(X_vt, y_vt, 'Dataset using feature VKM and vehicle type {}'.format(vt_mapping[vt]))\n",
    "    lr_performance.append(result)\n",
    "    vt_performance.append(result)"
   ]
  },
  {
   "cell_type": "markdown",
   "metadata": {},
   "source": [
    "### Get average performance from the result of individual vehicle type"
   ]
  },
  {
   "cell_type": "code",
   "execution_count": null,
   "metadata": {},
   "outputs": [],
   "source": [
    "df_vt_performance = pd.DataFrame(vt_performance)\n",
    "\n",
    "mean_mae = df_vt_performance['MAE'].mean()\n",
    "mean_mse = df_vt_performance['MSE'].mean()\n",
    "mean_r2 = df_vt_performance['R^2'].mean()\n",
    "\n",
    "print(\"Average performance metrics by using VKM for individual vehicle type:\", mean_mae, mean_mse, mean_r2)\n",
    "     "
   ]
  },
  {
   "cell_type": "code",
   "execution_count": null,
   "metadata": {},
   "outputs": [],
   "source": [
    "# try to put back the vehicle type as selected features to see the performance\n",
    "new_features = ['VKM', 'VehicleType']\n",
    "X_t2 = df[new_features]\n",
    "y_t2 = df['Emission Value']\n",
    "\n",
    "result =  build_lr_model(X_t2, y_t2, 'Dataset using features VKM and VehicleType')\n",
    "lr_performance.append(result)\n",
    "     "
   ]
  },
  {
   "cell_type": "code",
   "execution_count": null,
   "metadata": {},
   "outputs": [],
   "source": [
    "# Print the performance comparison of different datasets\n",
    "lr_metrics_overview = pd.DataFrame(lr_performance)\n",
    "lr_metrics_overview\n",
    "     "
   ]
  },
  {
   "cell_type": "markdown",
   "metadata": {},
   "source": [
    "### Conclusion\n",
    "* The original model's performance was suboptimal because scatter plots revealed no linear relationship between most features and the Emission Value.\n",
    "* Rebuilding the model using VKM and Emission Value, which show a strong linear relationship, significantly improved performance.\n",
    "* Linear regression may not be the optimal solution for this dataset with the initially selected features.\n",
    "* To effectively use linear regression for this dataset, separate models should be built for each vehicle type, and their individual results should be combined for the final prediction."
   ]
  },
  {
   "cell_type": "code",
   "execution_count": null,
   "metadata": {},
   "outputs": [],
   "source": []
  }
 ],
 "metadata": {
  "kernelspec": {
   "display_name": "Python 3 (ipykernel)",
   "language": "python",
   "name": "python3"
  },
  "language_info": {
   "codemirror_mode": {
    "name": "ipython",
    "version": 3
   },
   "file_extension": ".py",
   "mimetype": "text/x-python",
   "name": "python",
   "nbconvert_exporter": "python",
   "pygments_lexer": "ipython3",
   "version": "3.11.7"
  }
 },
 "nbformat": 4,
 "nbformat_minor": 4
}
