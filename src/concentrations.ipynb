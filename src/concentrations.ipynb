{
 "cells": [
  {
   "cell_type": "code",
   "execution_count": null,
   "outputs": [],
   "source": [
    "import pandas as pd"
   ],
   "metadata": {
    "collapsed": false
   },
   "id": "45db224146a8567c"
  },
  {
   "cell_type": "code",
   "execution_count": 19,
   "id": "initial_id",
   "metadata": {
    "collapsed": true,
    "ExecuteTime": {
     "end_time": "2024-07-26T00:35:20.084107671Z",
     "start_time": "2024-07-26T00:34:39.430020462Z"
    }
   },
   "outputs": [],
   "source": [
    "nox_emissions_df = pd.read_excel('../data//LAEI2013_Emissions_Summary-NOx_v1.1.xlsx',\n",
    "                                 sheet_name='NOx by Grid Exact Cut',\n",
    "                                 skiprows=3)\n",
    "pm25_emissions_df = pd.read_excel('../data//LAEI2013_Emissions_Summary-PM2.5_v1.1.xlsx',\n",
    "                                  sheet_name='PM2.5 by Grid Exact Cut',\n",
    "                                  skiprows=3)\n",
    "pm10_emissions_df = pd.read_excel('../data//LAEI2013_Emissions_Summary-PM10_v1.1.xlsx',\n",
    "                                  sheet_name='PM10 by Grid Exact Cut',\n",
    "                                  skiprows=3)\n",
    "\n",
    "nox_concentrations2013_df = pd.read_csv('../data/PostLAEI2013_2013_NOx.csv')\n",
    "nox_concentrations2020_df = pd.read_csv('../data/2020_Met2013_LAEI2013_NOx.csv')\n",
    "nox_concentrations2025_df = pd.read_csv('../data/2025_Met2013_LAEI2013_NOx.csv')\n",
    "nox_concentrations2030_df = pd.read_csv('../data/2030_Met2013_LAEI2013_NOx.csv')\n",
    "\n",
    "pm25_concentrations2013_df = pd.read_csv('../data/PostLAEI2013_2013_PM25.csv')\n",
    "pm25_concentrations2020_df = pd.read_csv('../data/2020_Met2013_LAEI2013_PM25.csv')\n",
    "pm25_concentrations2025_df = pd.read_csv('../data/2025_Met2013_LAEI2013_PM25.csv')\n",
    "pm25_concentrations2030_df = pd.read_csv('../data/2030_Met2013_LAEI2013_PM25.csv')\n",
    "\n",
    "pm10_concentrations2013_df = pd.read_csv('../data/PostLAEI2013_2013_PM10.csv')\n",
    "pm10_concentrations2020_df = pd.read_csv('../data/2020_Met2013_LAEI2013_PM10.csv')\n",
    "pm10_concentrations2025_df = pd.read_csv('../data/2025_Met2013_LAEI2013_PM10.csv')\n",
    "pm10_concentrations2030_df = pd.read_csv('../data/2030_Met2013_LAEI2013_PM10.csv')\n",
    "\n",
    "nox_concentrations_df = pd.concat([nox_concentrations2013_df,\n",
    "                                   nox_concentrations2020_df,\n",
    "                                   nox_concentrations2025_df,\n",
    "                                   nox_concentrations2030_df],\n",
    "                                  ignore_index=True)\n",
    "\n",
    "pm25_concentrations_df = pd.concat([pm25_concentrations2013_df,\n",
    "                                    pm25_concentrations2020_df,\n",
    "                                    pm25_concentrations2025_df,\n",
    "                                    pm25_concentrations2030_df],\n",
    "                                   ignore_index=True)\n",
    "\n",
    "pm10_concentrations_df = pd.concat([pm10_concentrations2013_df,\n",
    "                                    pm10_concentrations2020_df,\n",
    "                                    pm10_concentrations2025_df,\n",
    "                                    pm10_concentrations2030_df],\n",
    "                                   ignore_index=True)\n",
    "\n",
    "nox_emissions_df.columns = nox_emissions_df.columns.str.replace(' ', '_')\n",
    "pm25_emissions_df.columns = pm25_emissions_df.columns.str.replace(' ', '_')\n",
    "pm10_emissions_df.columns = pm10_emissions_df.columns.str.replace(' ', '_')\n",
    "\n",
    "nox_concentrations_df = nox_concentrations_df.rename(columns={\n",
    "    'conct': 'NOx_concentration',\n",
    "    'x': 'Easting',\n",
    "    'y': 'Northing',\n",
    "    'year': 'Year'\n",
    "})\n",
    "\n",
    "pm25_concentrations_df = pm25_concentrations_df.rename(columns={\n",
    "    'conct': 'PM25_concentration',\n",
    "    'x': 'Easting',\n",
    "    'y': 'Northing',\n",
    "    'year': 'Year'\n",
    "})\n",
    "\n",
    "pm10_concentrations_df = pm10_concentrations_df.rename(columns={\n",
    "    'conct': 'PM10_concentration',\n",
    "    'x': 'Easting',\n",
    "    'y': 'Northing',\n",
    "    'year': 'Year'\n",
    "})\n",
    "\n",
    "nox_merged_df = pd.merge(nox_concentrations_df, nox_emissions_df, on=['Easting', 'Northing', 'Year'], how='inner')\n",
    "pm25_merged_df = pd.merge(pm25_concentrations_df, pm25_emissions_df, on=['Easting', 'Northing', 'Year'], how='inner')\n",
    "pm10_merged_df = pd.merge(pm10_concentrations_df, pm10_emissions_df, on=['Easting', 'Northing', 'Year'], how='inner')\n",
    "\n",
    "nox_merged_df.to_csv(\"../data/nox_merged_output.csv\")\n",
    "pm25_merged_df.to_csv(\"../data/pm25_merged_output.csv\")\n",
    "pm10_merged_df.to_csv(\"../data/pm10_merged_output.csv\")"
   ]
  },
  {
   "cell_type": "code",
   "execution_count": 20,
   "outputs": [
    {
     "name": "stdout",
     "output_type": "stream",
     "text": [
      "NOx Concentrations Model Mean Squared Error: 128.26714379190926\n",
      "PM2.5 Concentrations Model Mean Squared Error: 0.30276686242650525\n",
      "PM10 Concentrations Model Mean Squared Error: 1.6071645008775757\n"
     ]
    }
   ],
   "source": [
    "### Training the models\n",
    "\n",
    "from sklearn.model_selection import train_test_split\n",
    "from sklearn.linear_model import LinearRegression\n",
    "from sklearn.metrics import mean_squared_error\n",
    "\n",
    "test_size = 0.2\n",
    "random_state = 42\n",
    "\n",
    "# NOx Concentrations Model\n",
    "nox_numerical_columns = nox_merged_df.select_dtypes(include=['float64', 'int64']).columns\n",
    "nox_features = nox_merged_df[nox_numerical_columns].drop(columns=['NOx_concentration'])\n",
    "nox_target = nox_merged_df['NOx_concentration']\n",
    "\n",
    "nox_X_train, nox_X_test, nox_y_train, nox_y_test = train_test_split(nox_features, nox_target, test_size=test_size,\n",
    "                                                                    random_state=random_state)\n",
    "nox_model = LinearRegression()\n",
    "nox_model.fit(nox_X_train, nox_y_train)\n",
    "nox_y_pred = nox_model.predict(nox_X_test)\n",
    "\n",
    "mse = mean_squared_error(nox_y_test, nox_y_pred)\n",
    "print(f'NOx Concentrations Model Mean Squared Error: {mse}')\n",
    "\n",
    "# PM2.5 Concentrations Model\n",
    "pm25_numerical_columns = pm25_merged_df.select_dtypes(include=['float64', 'int64']).columns\n",
    "pm25_features = pm25_merged_df[pm25_numerical_columns].drop(columns=['PM25_concentration'])\n",
    "pm25_target = pm25_merged_df['PM25_concentration']\n",
    "\n",
    "pm25_X_train, pm25_X_test, pm25_y_train, pm25_y_test = train_test_split(pm25_features, pm25_target, test_size=test_size,\n",
    "                                                                        random_state=random_state)\n",
    "pm25_model = LinearRegression()\n",
    "pm25_model.fit(pm25_X_train, pm25_y_train)\n",
    "pm25_y_pred = pm25_model.predict(pm25_X_test)\n",
    "\n",
    "mse = mean_squared_error(pm25_y_test, pm25_y_pred)\n",
    "print(f'PM2.5 Concentrations Model Mean Squared Error: {mse}')\n",
    "\n",
    "# PM10 Concentrations Model\n",
    "pm10_numerical_columns = pm10_merged_df.select_dtypes(include=['float64', 'int64']).columns\n",
    "pm10_features = pm10_merged_df[pm10_numerical_columns].drop(columns=['PM10_concentration'])\n",
    "pm10_target = pm10_merged_df['PM10_concentration']\n",
    "\n",
    "pm10_X_train, pm10_X_test, pm10_y_train, pm10_y_test = train_test_split(pm10_features, pm10_target, test_size=test_size,\n",
    "                                                                        random_state=random_state)\n",
    "pm10_model = LinearRegression()\n",
    "pm10_model.fit(pm10_X_train, pm10_y_train)\n",
    "pm10_y_pred = pm10_model.predict(pm10_X_test)\n",
    "\n",
    "mse = mean_squared_error(pm10_y_test, pm10_y_pred)\n",
    "print(f'PM10 Concentrations Model Mean Squared Error: {mse}')"
   ],
   "metadata": {
    "collapsed": false,
    "ExecuteTime": {
     "end_time": "2024-07-26T00:35:20.371094330Z",
     "start_time": "2024-07-26T00:35:20.083982246Z"
    }
   },
   "id": "5bef71833f6561c1"
  }
 ],
 "metadata": {
  "kernelspec": {
   "display_name": "Python 3",
   "language": "python",
   "name": "python3"
  },
  "language_info": {
   "codemirror_mode": {
    "name": "ipython",
    "version": 2
   },
   "file_extension": ".py",
   "mimetype": "text/x-python",
   "name": "python",
   "nbconvert_exporter": "python",
   "pygments_lexer": "ipython2",
   "version": "2.7.6"
  }
 },
 "nbformat": 4,
 "nbformat_minor": 5
}
