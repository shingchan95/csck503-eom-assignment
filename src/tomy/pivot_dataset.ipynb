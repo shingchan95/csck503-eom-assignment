{
 "cells": [
  {
   "cell_type": "markdown",
   "metadata": {},
   "source": [
    "# CSCK503 Group Project\n",
    "\n",
    "### Developing Machine Learning Models for Predicting Atmospheric Emissions"
   ]
  },
  {
   "cell_type": "code",
   "execution_count": 2,
   "metadata": {
    "ExecuteTime": {
     "end_time": "2024-07-20T09:47:13.750761Z",
     "start_time": "2024-07-20T09:47:13.724636Z"
    }
   },
   "outputs": [],
   "source": []
  },
  {
   "cell_type": "markdown",
   "metadata": {},
   "source": [
    "## Data Analysis and Data Cleansing"
   ]
  },
  {
   "cell_type": "code",
   "execution_count": 4,
   "metadata": {
    "ExecuteTime": {
     "end_time": "2024-07-20T09:50:06.412864Z",
     "start_time": "2024-07-20T09:48:45.153985Z"
    }
   },
   "outputs": [
    {
     "name": "stdout",
     "output_type": "stream",
     "text": [
      "        GridId              Toid  GRID_ExactCut_ID Location_ExactCut  \\\n",
      "0         5918  4000000027876836                 7          External   \n",
      "1         5918  4000000027876836                 7          External   \n",
      "2         5918  4000000027876836                 7          External   \n",
      "3         5918  4000000027876836                 7          External   \n",
      "4         5918  4000000027876836                 7          External   \n",
      "...        ...               ...               ...               ...   \n",
      "673819   14540  4000000030654494               508          External   \n",
      "673820   14540  4000000030654494               508          External   \n",
      "673821   14540  4000000030654494               508          External   \n",
      "673822   14540  4000000030654494               508          External   \n",
      "673823   14540  4000000030654494               508          External   \n",
      "\n",
      "       BoroughName_ExactCut    Lts  Length (m) Emissions  Year Emissions Unit  \\\n",
      "0                    NonGLA  19039  122.339470    COPERT  2013    tonnes/year   \n",
      "1                    NonGLA  19039  122.339470    COPERT  2013    tonnes/year   \n",
      "2                    NonGLA  19039  122.339470    COPERT  2013    tonnes/year   \n",
      "3                    NonGLA  19039  122.339470    COPERT  2013    tonnes/year   \n",
      "4                    NonGLA  19039  122.339470    COPERT  2013    tonnes/year   \n",
      "...                     ...    ...         ...       ...   ...            ...   \n",
      "673819               NonGLA  18275   20.525635       DFT  2013    tonnes/year   \n",
      "673820               NonGLA  18275   20.525635       DFT  2013    tonnes/year   \n",
      "673821               NonGLA  18275   20.525635       DFT  2013    tonnes/year   \n",
      "673822               NonGLA  18275   20.525635       DFT  2013    tonnes/year   \n",
      "673823               NonGLA  18275   20.525635       DFT  2013    tonnes/year   \n",
      "\n",
      "        ... CO2 emission  NOx emission PM10_Brake emission  \\\n",
      "0       ...          NaN      0.012539            0.000456   \n",
      "1       ...          NaN      0.018681            0.000640   \n",
      "2       ...          NaN      0.010444            0.000344   \n",
      "3       ...          NaN      0.000000            0.000000   \n",
      "4       ...          NaN      0.000000            0.000004   \n",
      "...     ...          ...           ...                 ...   \n",
      "673819  ...     0.074940           NaN                 NaN   \n",
      "673820  ...     0.664118           NaN                 NaN   \n",
      "673821  ...     0.120127           NaN                 NaN   \n",
      "673822  ...     0.182249           NaN                 NaN   \n",
      "673823  ...     0.197281           NaN                 NaN   \n",
      "\n",
      "       PM10_Exhaust emission  PM10_Resusp emission  PM10_Tyre emission  \\\n",
      "0                   0.000117          1.058772e-03        1.225363e-04   \n",
      "1                   0.000177          1.485996e-03        1.719717e-04   \n",
      "2                   0.000102          7.987230e-04        9.242065e-05   \n",
      "3                   0.000000          0.000000e+00        0.000000e+00   \n",
      "4                   0.000000          7.036100e-07        8.632217e-07   \n",
      "...                      ...                   ...                 ...   \n",
      "673819                   NaN                   NaN                 NaN   \n",
      "673820                   NaN                   NaN                 NaN   \n",
      "673821                   NaN                   NaN                 NaN   \n",
      "673822                   NaN                   NaN                 NaN   \n",
      "673823                   NaN                   NaN                 NaN   \n",
      "\n",
      "        PM25_Brake emission  PM25_Exhaust emission  PM25_Resusp emission  \\\n",
      "0                  0.000181               0.000111          3.811580e-05   \n",
      "1                  0.000255               0.000168          5.349586e-05   \n",
      "2                  0.000137               0.000097          2.875403e-05   \n",
      "3                  0.000000               0.000000          0.000000e+00   \n",
      "4                  0.000002               0.000000          2.814440e-08   \n",
      "...                     ...                    ...                   ...   \n",
      "673819                  NaN                    NaN                   NaN   \n",
      "673820                  NaN                    NaN                   NaN   \n",
      "673821                  NaN                    NaN                   NaN   \n",
      "673822                  NaN                    NaN                   NaN   \n",
      "673823                  NaN                    NaN                   NaN   \n",
      "\n",
      "        PM25_Tyre emission  \n",
      "0             8.577542e-05  \n",
      "1             1.203802e-04  \n",
      "2             6.469446e-05  \n",
      "3             0.000000e+00  \n",
      "4             6.042552e-07  \n",
      "...                    ...  \n",
      "673819                 NaN  \n",
      "673820                 NaN  \n",
      "673821                 NaN  \n",
      "673822                 NaN  \n",
      "673823                 NaN  \n",
      "\n",
      "[673824 rows x 27 columns]\n"
     ]
    }
   ],
   "source": [
    "# import required libraries\n",
    "import os\n",
    "import pandas as pd\n",
    "import seaborn as sns\n",
    "import matplotlib.pyplot as plt\n",
    "%matplotlib inline\n",
    "\n",
    "# Define the file path and name\n",
    "file_path = '/Users/shchan/Documents/Programming/Postgrad_Computer_science/Modules/CSCK503 Machine Learning in Practice June 2024/Week 8/Assignment/end of module assignment/data/'\n",
    "file_name = 'MajorRoadTrafficData.csv'\n",
    "\n",
    "# Read the CSV file into a dataframe\n",
    "major_road_traffic_data = pd.read_csv(file_path + file_name)\n",
    "\n",
    "# Make a copy of the dataframe\n",
    "df_pollutant_in_col = major_road_traffic_data.copy()\n",
    "\n",
    "# Pivot the dataframe while keeping other columns\n",
    "pivoted_df = df_pollutant_in_col.pivot_table(\n",
    "    index=['GridId', 'Toid', 'GRID_ExactCut_ID', 'Location_ExactCut', 'BoroughName_ExactCut', \n",
    "           'Lts', 'Length (m)', 'Emissions', 'Year', 'Emissions Unit', 'VehicleType', \n",
    "           'RowID', 'TLRN', 'MotorwayNumber', 'Speed (kph)', 'AADT', 'VKM'], \n",
    "    columns='Pollutant', \n",
    "    values='Emission Value'\n",
    ")\n",
    "\n",
    "# Flatten the columns to a single level and rename them\n",
    "pivoted_df.columns = [f'{col} emission' for col in pivoted_df.columns]\n",
    "pivoted_df.reset_index(inplace=True)\n",
    "\n",
    "# Display the transformed dataframe\n",
    "print(pivoted_df)\n",
    "\n",
    "# Export the transformed dataframe to a new CSV file\n",
    "output_file_name = 'PivotedMajorRoadTrafficData.csv'\n",
    "output_file_path = file_path + output_file_name\n",
    "pivoted_df.to_csv(output_file_path, index=False)\n",
    "\n",
    "print(f'Transformed dataframe has been exported to {output_file_path}')"
   ]
  },
  {
   "cell_type": "code",
   "execution_count": 5,
   "metadata": {},
   "outputs": [
    {
     "name": "stdout",
     "output_type": "stream",
     "text": [
      "Transformed dataframe has been exported to /Users/shchan/Documents/Programming/Postgrad_Computer_science/Modules/CSCK503 Machine Learning in Practice June 2024/Week 8/Assignment/end of module assignment/data/PivotedMajorRoadTrafficData.csv\n"
     ]
    }
   ],
   "source": []
  },
  {
   "cell_type": "code",
   "execution_count": null,
   "metadata": {},
   "outputs": [],
   "source": []
  }
 ],
 "metadata": {
  "kernelspec": {
   "display_name": "Python 3 (ipykernel)",
   "language": "python",
   "name": "python3"
  },
  "language_info": {
   "codemirror_mode": {
    "name": "ipython",
    "version": 3
   },
   "file_extension": ".py",
   "mimetype": "text/x-python",
   "name": "python",
   "nbconvert_exporter": "python",
   "pygments_lexer": "ipython3",
   "version": "3.12.3"
  }
 },
 "nbformat": 4,
 "nbformat_minor": 2
}
