{
 "cells": [
  {
   "cell_type": "code",
   "execution_count": 30,
   "id": "initial_id",
   "metadata": {
    "collapsed": true,
    "ExecuteTime": {
     "end_time": "2024-07-25T23:34:53.292046044Z",
     "start_time": "2024-07-25T23:34:42.415926799Z"
    }
   },
   "outputs": [
    {
     "name": "stdout",
     "output_type": "stream",
     "text": [
      "x        0\n",
      "y        0\n",
      "conct    0\n",
      "year     0\n",
      "dtype: int64\n",
      "Merged Data:\n"
     ]
    },
    {
     "data": {
      "text/plain": "       Easting  Northing  NOx_concentration  Year  LAEI_1km2_ID  \\\n0       501500    170500           56.87044  2013         11577   \n1       501500    187500           56.68350  2013          8653   \n2       502500    167500           33.61423  2013         12094   \n3       502500    168500           31.32178  2013         11922   \n4       502500    169500           32.42097  2013         11750   \n...        ...       ...                ...   ...           ...   \n12859   560500    186500           14.64165  2030          8884   \n12860   560500    187500           14.52616  2030          8712   \n12861   560500    187500           14.52616  2030          8712   \n12862   561500    185500           14.48234  2030          9057   \n12863   561500    185500           14.48234  2030          9057   \n\n       GRID_ExactCut_ID   Borough    Zone  Household_and_Garden  \\\n0                   258    NonGLA  NonGLA              0.023479   \n1                   224    NonGLA  NonGLA              0.011739   \n2                   288    NonGLA  NonGLA              0.005870   \n3                   275    NonGLA  NonGLA              0.011739   \n4                   265    NonGLA  NonGLA              0.012473   \n...                 ...       ...     ...                   ...   \n12859              2774  Havering   Outer              0.000000   \n12860              1403    NonGLA  NonGLA              0.001488   \n12861              1404  Havering   Outer              0.000839   \n12862              2133    NonGLA  NonGLA              0.000000   \n12863              2134  Havering   Outer              0.000000   \n\n       Small_Waste_and_Accidental_Fires  ...  Diesel_Car  Electric_Car  \\\n0                              0.002008  ...   17.483541             0   \n1                              0.000367  ...   14.099647             0   \n2                              0.000187  ...   12.429571             0   \n3                              0.010782  ...    0.647922             0   \n4                              0.003986  ...    0.401891             0   \n...                                 ...  ...         ...           ...   \n12859                          0.000000  ...    0.029694             0   \n12860                          0.000039  ...    0.028266             0   \n12861                          0.000022  ...    0.028589             0   \n12862                          0.000000  ...    0.000924             0   \n12863                          0.000000  ...    0.006801             0   \n\n       Petrol_LGV  Diesel_LGV  Electric_LGV   TfL_Bus  Non-TfL_Bus_and_Coach  \\\n0        0.135210    6.173631             0  0.167362               2.005301   \n1        0.117319    5.491909             0  0.126726               0.882398   \n2        0.101858    5.498087             0  0.186480               0.860553   \n3        0.003241    0.255436             0  0.024594               0.027844   \n4        0.002391    0.183494             0  0.051577               0.055494   \n...           ...         ...           ...       ...                    ...   \n12859    0.000140    0.008731             0  0.000000               0.001468   \n12860    0.000121    0.006810             0  0.000303               0.000664   \n12861    0.000136    0.007853             0  0.000000               0.001319   \n12862    0.000002    0.000207             0  0.000000               0.000000   \n12863    0.000032    0.002637             0  0.000000               0.000188   \n\n       Artic_HGV  Rigid_HGV      Total  \n0       6.539005   4.647952  43.364595  \n1       6.422596   3.777841  35.585632  \n2       4.819511   3.294308  32.519997  \n3       0.084129   0.296846   3.355043  \n4       0.017542   0.093720   2.728494  \n...          ...        ...        ...  \n12859   0.000182   0.001501   0.278572  \n12860   0.000189   0.001556   0.182452  \n12861   0.000297   0.001838   0.151122  \n12862   0.000000   0.000000   0.038504  \n12863   0.000023   0.000193   0.204632  \n\n[12864 rows x 42 columns]",
      "text/html": "<div>\n<style scoped>\n    .dataframe tbody tr th:only-of-type {\n        vertical-align: middle;\n    }\n\n    .dataframe tbody tr th {\n        vertical-align: top;\n    }\n\n    .dataframe thead th {\n        text-align: right;\n    }\n</style>\n<table border=\"1\" class=\"dataframe\">\n  <thead>\n    <tr style=\"text-align: right;\">\n      <th></th>\n      <th>Easting</th>\n      <th>Northing</th>\n      <th>NOx_concentration</th>\n      <th>Year</th>\n      <th>LAEI_1km2_ID</th>\n      <th>GRID_ExactCut_ID</th>\n      <th>Borough</th>\n      <th>Zone</th>\n      <th>Household_and_Garden</th>\n      <th>Small_Waste_and_Accidental_Fires</th>\n      <th>...</th>\n      <th>Diesel_Car</th>\n      <th>Electric_Car</th>\n      <th>Petrol_LGV</th>\n      <th>Diesel_LGV</th>\n      <th>Electric_LGV</th>\n      <th>TfL_Bus</th>\n      <th>Non-TfL_Bus_and_Coach</th>\n      <th>Artic_HGV</th>\n      <th>Rigid_HGV</th>\n      <th>Total</th>\n    </tr>\n  </thead>\n  <tbody>\n    <tr>\n      <th>0</th>\n      <td>501500</td>\n      <td>170500</td>\n      <td>56.87044</td>\n      <td>2013</td>\n      <td>11577</td>\n      <td>258</td>\n      <td>NonGLA</td>\n      <td>NonGLA</td>\n      <td>0.023479</td>\n      <td>0.002008</td>\n      <td>...</td>\n      <td>17.483541</td>\n      <td>0</td>\n      <td>0.135210</td>\n      <td>6.173631</td>\n      <td>0</td>\n      <td>0.167362</td>\n      <td>2.005301</td>\n      <td>6.539005</td>\n      <td>4.647952</td>\n      <td>43.364595</td>\n    </tr>\n    <tr>\n      <th>1</th>\n      <td>501500</td>\n      <td>187500</td>\n      <td>56.68350</td>\n      <td>2013</td>\n      <td>8653</td>\n      <td>224</td>\n      <td>NonGLA</td>\n      <td>NonGLA</td>\n      <td>0.011739</td>\n      <td>0.000367</td>\n      <td>...</td>\n      <td>14.099647</td>\n      <td>0</td>\n      <td>0.117319</td>\n      <td>5.491909</td>\n      <td>0</td>\n      <td>0.126726</td>\n      <td>0.882398</td>\n      <td>6.422596</td>\n      <td>3.777841</td>\n      <td>35.585632</td>\n    </tr>\n    <tr>\n      <th>2</th>\n      <td>502500</td>\n      <td>167500</td>\n      <td>33.61423</td>\n      <td>2013</td>\n      <td>12094</td>\n      <td>288</td>\n      <td>NonGLA</td>\n      <td>NonGLA</td>\n      <td>0.005870</td>\n      <td>0.000187</td>\n      <td>...</td>\n      <td>12.429571</td>\n      <td>0</td>\n      <td>0.101858</td>\n      <td>5.498087</td>\n      <td>0</td>\n      <td>0.186480</td>\n      <td>0.860553</td>\n      <td>4.819511</td>\n      <td>3.294308</td>\n      <td>32.519997</td>\n    </tr>\n    <tr>\n      <th>3</th>\n      <td>502500</td>\n      <td>168500</td>\n      <td>31.32178</td>\n      <td>2013</td>\n      <td>11922</td>\n      <td>275</td>\n      <td>NonGLA</td>\n      <td>NonGLA</td>\n      <td>0.011739</td>\n      <td>0.010782</td>\n      <td>...</td>\n      <td>0.647922</td>\n      <td>0</td>\n      <td>0.003241</td>\n      <td>0.255436</td>\n      <td>0</td>\n      <td>0.024594</td>\n      <td>0.027844</td>\n      <td>0.084129</td>\n      <td>0.296846</td>\n      <td>3.355043</td>\n    </tr>\n    <tr>\n      <th>4</th>\n      <td>502500</td>\n      <td>169500</td>\n      <td>32.42097</td>\n      <td>2013</td>\n      <td>11750</td>\n      <td>265</td>\n      <td>NonGLA</td>\n      <td>NonGLA</td>\n      <td>0.012473</td>\n      <td>0.003986</td>\n      <td>...</td>\n      <td>0.401891</td>\n      <td>0</td>\n      <td>0.002391</td>\n      <td>0.183494</td>\n      <td>0</td>\n      <td>0.051577</td>\n      <td>0.055494</td>\n      <td>0.017542</td>\n      <td>0.093720</td>\n      <td>2.728494</td>\n    </tr>\n    <tr>\n      <th>...</th>\n      <td>...</td>\n      <td>...</td>\n      <td>...</td>\n      <td>...</td>\n      <td>...</td>\n      <td>...</td>\n      <td>...</td>\n      <td>...</td>\n      <td>...</td>\n      <td>...</td>\n      <td>...</td>\n      <td>...</td>\n      <td>...</td>\n      <td>...</td>\n      <td>...</td>\n      <td>...</td>\n      <td>...</td>\n      <td>...</td>\n      <td>...</td>\n      <td>...</td>\n      <td>...</td>\n    </tr>\n    <tr>\n      <th>12859</th>\n      <td>560500</td>\n      <td>186500</td>\n      <td>14.64165</td>\n      <td>2030</td>\n      <td>8884</td>\n      <td>2774</td>\n      <td>Havering</td>\n      <td>Outer</td>\n      <td>0.000000</td>\n      <td>0.000000</td>\n      <td>...</td>\n      <td>0.029694</td>\n      <td>0</td>\n      <td>0.000140</td>\n      <td>0.008731</td>\n      <td>0</td>\n      <td>0.000000</td>\n      <td>0.001468</td>\n      <td>0.000182</td>\n      <td>0.001501</td>\n      <td>0.278572</td>\n    </tr>\n    <tr>\n      <th>12860</th>\n      <td>560500</td>\n      <td>187500</td>\n      <td>14.52616</td>\n      <td>2030</td>\n      <td>8712</td>\n      <td>1403</td>\n      <td>NonGLA</td>\n      <td>NonGLA</td>\n      <td>0.001488</td>\n      <td>0.000039</td>\n      <td>...</td>\n      <td>0.028266</td>\n      <td>0</td>\n      <td>0.000121</td>\n      <td>0.006810</td>\n      <td>0</td>\n      <td>0.000303</td>\n      <td>0.000664</td>\n      <td>0.000189</td>\n      <td>0.001556</td>\n      <td>0.182452</td>\n    </tr>\n    <tr>\n      <th>12861</th>\n      <td>560500</td>\n      <td>187500</td>\n      <td>14.52616</td>\n      <td>2030</td>\n      <td>8712</td>\n      <td>1404</td>\n      <td>Havering</td>\n      <td>Outer</td>\n      <td>0.000839</td>\n      <td>0.000022</td>\n      <td>...</td>\n      <td>0.028589</td>\n      <td>0</td>\n      <td>0.000136</td>\n      <td>0.007853</td>\n      <td>0</td>\n      <td>0.000000</td>\n      <td>0.001319</td>\n      <td>0.000297</td>\n      <td>0.001838</td>\n      <td>0.151122</td>\n    </tr>\n    <tr>\n      <th>12862</th>\n      <td>561500</td>\n      <td>185500</td>\n      <td>14.48234</td>\n      <td>2030</td>\n      <td>9057</td>\n      <td>2133</td>\n      <td>NonGLA</td>\n      <td>NonGLA</td>\n      <td>0.000000</td>\n      <td>0.000000</td>\n      <td>...</td>\n      <td>0.000924</td>\n      <td>0</td>\n      <td>0.000002</td>\n      <td>0.000207</td>\n      <td>0</td>\n      <td>0.000000</td>\n      <td>0.000000</td>\n      <td>0.000000</td>\n      <td>0.000000</td>\n      <td>0.038504</td>\n    </tr>\n    <tr>\n      <th>12863</th>\n      <td>561500</td>\n      <td>185500</td>\n      <td>14.48234</td>\n      <td>2030</td>\n      <td>9057</td>\n      <td>2134</td>\n      <td>Havering</td>\n      <td>Outer</td>\n      <td>0.000000</td>\n      <td>0.000000</td>\n      <td>...</td>\n      <td>0.006801</td>\n      <td>0</td>\n      <td>0.000032</td>\n      <td>0.002637</td>\n      <td>0</td>\n      <td>0.000000</td>\n      <td>0.000188</td>\n      <td>0.000023</td>\n      <td>0.000193</td>\n      <td>0.204632</td>\n    </tr>\n  </tbody>\n</table>\n<p>12864 rows × 42 columns</p>\n</div>"
     },
     "metadata": {},
     "output_type": "display_data"
    }
   ],
   "source": [
    "import pandas as pd\n",
    "\n",
    "emissions_df = pd.read_excel('../data//LAEI2013_Emissions_Summary-NOx_v1.1.xlsx', sheet_name='NOx by Grid Exact Cut',\n",
    "                             skiprows=3)\n",
    "\n",
    "nox_concentrations2013_df = pd.read_csv('../data/PostLAEI2013_2013_NOx.csv')\n",
    "nox_concentrations2020_df = pd.read_csv('../data/2020_Met2013_LAEI2013_NOx.csv')\n",
    "nox_concentrations2025_df = pd.read_csv('../data/2025_Met2013_LAEI2013_NOx.csv')\n",
    "nox_concentrations2030_df = pd.read_csv('../data/2030_Met2013_LAEI2013_NOx.csv')\n",
    "\n",
    "concentrations_df = pd.concat([nox_concentrations2013_df,\n",
    "                               nox_concentrations2020_df,\n",
    "                               nox_concentrations2025_df,\n",
    "                               nox_concentrations2030_df],\n",
    "                              ignore_index=True)\n",
    "\n",
    "concentrations_df.head()\n",
    "print(concentrations_df.isnull().sum())\n",
    "\n",
    "emissions_df.columns = emissions_df.columns.str.replace(' ', '_')\n",
    "\n",
    "concentrations_df = concentrations_df.rename(columns={\n",
    "    'conct': 'NOx_concentration',\n",
    "    'x': 'Easting',\n",
    "    'y': 'Northing',\n",
    "    'year': 'Year'\n",
    "})\n",
    "\n",
    "merged_df = pd.merge(concentrations_df, emissions_df, on=['Easting', 'Northing', 'Year'], how='inner')\n",
    "\n",
    "print(\"Merged Data:\")\n",
    "display(merged_df)\n",
    "merged_df.to_csv(\"../data/concentrations_merged_output.csv\")"
   ]
  },
  {
   "cell_type": "code",
   "execution_count": 31,
   "outputs": [
    {
     "name": "stdout",
     "output_type": "stream",
     "text": [
      "Mean Squared Error: 128.5892248556574\n"
     ]
    }
   ],
   "source": [
    "### Training the model\n",
    "\n",
    "from sklearn.model_selection import train_test_split\n",
    "from sklearn.linear_model import LinearRegression\n",
    "from sklearn.metrics import mean_squared_error\n",
    "\n",
    "vehicle_columns = [\n",
    "    'Year', 'Motorcycle', 'Taxi', 'Petrol_Car', 'Diesel_Car', 'Electric_Car',\n",
    "    'Petrol_LGV', 'Diesel_LGV', 'Electric_LGV', 'TfL_Bus', 'Non-TfL_Bus_and_Coach',\n",
    "    'Artic_HGV', 'Rigid_HGV', 'Resuspension', 'Rail_Passengers', 'Rail_Freight', 'Commercial_Shipping',\n",
    "    'Passenger_Shipping', 'Aviation', 'Industry_Part_B', 'Industry_Part_A', 'Commercial_Other_Fuels',\n",
    "    'Domestic_Other_Fuels', 'Commercial_Gas', 'Domestic_Gas', 'C&D_Dust', 'NRMM_Industry',\n",
    "    'NRMM_Construction', 'Landfill', 'WTS', 'STW', 'Agriculture', 'Small_Waste_and_Accidental_Fires',\n",
    "    'Household_and_Garden',\n",
    "]\n",
    "features = merged_df[vehicle_columns]\n",
    "target = merged_df['NOx_concentration']\n",
    "\n",
    "X_train, X_test, y_train, y_test = train_test_split(features, target, test_size=0.2, random_state=42)\n",
    "\n",
    "model = LinearRegression()\n",
    "model.fit(X_train, y_train)\n",
    "\n",
    "y_pred = model.predict(X_test)\n",
    "\n",
    "# Evaluation\n",
    "mse = mean_squared_error(y_test, y_pred)\n",
    "print(f'Mean Squared Error: {mse}')"
   ],
   "metadata": {
    "collapsed": false,
    "ExecuteTime": {
     "end_time": "2024-07-25T23:34:53.354744143Z",
     "start_time": "2024-07-25T23:34:53.294975818Z"
    }
   },
   "id": "5bef71833f6561c1"
  }
 ],
 "metadata": {
  "kernelspec": {
   "display_name": "Python 3",
   "language": "python",
   "name": "python3"
  },
  "language_info": {
   "codemirror_mode": {
    "name": "ipython",
    "version": 2
   },
   "file_extension": ".py",
   "mimetype": "text/x-python",
   "name": "python",
   "nbconvert_exporter": "python",
   "pygments_lexer": "ipython2",
   "version": "2.7.6"
  }
 },
 "nbformat": 4,
 "nbformat_minor": 5
}
